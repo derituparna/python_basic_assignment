{
 "cells": [
  {
   "cell_type": "markdown",
   "id": "2c71d3fa",
   "metadata": {},
   "source": [
    "1. Is the Python Standard Library included with PyInputPlus?"
   ]
  },
  {
   "cell_type": "code",
   "execution_count": null,
   "id": "c82720f8",
   "metadata": {},
   "outputs": [],
   "source": [
    "=> No, PyInputPlus is not a part of Python Standard Library, \n",
    "it needs to be installed explicitly using the command !pip install PyInputPlus"
   ]
  },
  {
   "cell_type": "markdown",
   "id": "9e1f4217",
   "metadata": {},
   "source": [
    "2. Why is PyInputPlus commonly imported with import pyinputplus as pypi?"
   ]
  },
  {
   "cell_type": "code",
   "execution_count": null,
   "id": "8915e291",
   "metadata": {},
   "outputs": [],
   "source": [
    "=>You can import the module with import pyinputplus as pyip so that you can call\n",
    "  a shorter name when calling the module's functions."
   ]
  },
  {
   "cell_type": "markdown",
   "id": "926c78b7",
   "metadata": {},
   "source": [
    "3. How do you distinguish between inputInt() and inputFloat()?"
   ]
  },
  {
   "cell_type": "code",
   "execution_count": null,
   "id": "7190f20a",
   "metadata": {},
   "outputs": [],
   "source": [
    "=>inputInt() function Accepts an integer value And it always returns an int.\n",
    "Whereas inputFloat() function Accepts a floating-point numeric value and always returns a float."
   ]
  },
  {
   "cell_type": "markdown",
   "id": "4393d701",
   "metadata": {},
   "source": [
    "4.Using PyInputPlus, how do you ensure that the user enters a whole number between 0 and 99?"
   ]
  },
  {
   "cell_type": "code",
   "execution_count": 2,
   "id": "d5cb1d38",
   "metadata": {},
   "outputs": [
    {
     "name": "stderr",
     "output_type": "stream",
     "text": [
      "WARNING: Retrying (Retry(total=4, connect=None, read=None, redirect=None, status=None)) after connection broken by 'NewConnectionError('<pip._vendor.urllib3.connection.HTTPSConnection object at 0x000001EB84A87430>: Failed to establish a new connection: [Errno 11001] getaddrinfo failed')': /simple/pyinputplus/\n",
      "WARNING: Retrying (Retry(total=3, connect=None, read=None, redirect=None, status=None)) after connection broken by 'NewConnectionError('<pip._vendor.urllib3.connection.HTTPSConnection object at 0x000001EB84A87670>: Failed to establish a new connection: [Errno 11001] getaddrinfo failed')': /simple/pyinputplus/\n",
      "WARNING: Retrying (Retry(total=2, connect=None, read=None, redirect=None, status=None)) after connection broken by 'NewConnectionError('<pip._vendor.urllib3.connection.HTTPSConnection object at 0x000001EB84A87850>: Failed to establish a new connection: [Errno 11001] getaddrinfo failed')': /simple/pyinputplus/\n",
      "WARNING: Retrying (Retry(total=1, connect=None, read=None, redirect=None, status=None)) after connection broken by 'NewConnectionError('<pip._vendor.urllib3.connection.HTTPSConnection object at 0x000001EB84A87A30>: Failed to establish a new connection: [Errno 11001] getaddrinfo failed')': /simple/pyinputplus/\n",
      "WARNING: Retrying (Retry(total=0, connect=None, read=None, redirect=None, status=None)) after connection broken by 'NewConnectionError('<pip._vendor.urllib3.connection.HTTPSConnection object at 0x000001EB84A87C10>: Failed to establish a new connection: [Errno 11001] getaddrinfo failed')': /simple/pyinputplus/\n",
      "ERROR: Could not find a version that satisfies the requirement pyinputplus\n",
      "ERROR: No matching distribution found for pyinputplus\n"
     ]
    }
   ],
   "source": [
    "!pip install pyinputplus"
   ]
  },
  {
   "cell_type": "code",
   "execution_count": 3,
   "id": "e565c7f6",
   "metadata": {},
   "outputs": [
    {
     "ename": "ModuleNotFoundError",
     "evalue": "No module named 'pyinputplus'",
     "output_type": "error",
     "traceback": [
      "\u001b[1;31m---------------------------------------------------------------------------\u001b[0m",
      "\u001b[1;31mModuleNotFoundError\u001b[0m                       Traceback (most recent call last)",
      "\u001b[1;32m<ipython-input-3-26e8072404f3>\u001b[0m in \u001b[0;36m<module>\u001b[1;34m\u001b[0m\n\u001b[1;32m----> 1\u001b[1;33m \u001b[1;32mimport\u001b[0m \u001b[0mpyinputplus\u001b[0m \u001b[1;32mas\u001b[0m \u001b[0mpyip\u001b[0m\u001b[1;33m\u001b[0m\u001b[1;33m\u001b[0m\u001b[0m\n\u001b[0m\u001b[0;32m      2\u001b[0m \u001b[0mnumber\u001b[0m \u001b[1;33m=\u001b[0m \u001b[0mpyip\u001b[0m\u001b[1;33m.\u001b[0m\u001b[0minputInt\u001b[0m\u001b[1;33m(\u001b[0m\u001b[0mprompt\u001b[0m\u001b[1;33m=\u001b[0m\u001b[1;34m'Enter a number: '\u001b[0m\u001b[1;33m,\u001b[0m \u001b[0mmin\u001b[0m\u001b[1;33m=\u001b[0m\u001b[1;36m0\u001b[0m\u001b[1;33m,\u001b[0m \u001b[0mmax\u001b[0m\u001b[1;33m=\u001b[0m\u001b[1;36m100\u001b[0m\u001b[1;33m)\u001b[0m\u001b[1;33m\u001b[0m\u001b[1;33m\u001b[0m\u001b[0m\n\u001b[0;32m      3\u001b[0m \u001b[0mprint\u001b[0m\u001b[1;33m(\u001b[0m\u001b[0mnumber\u001b[0m\u001b[1;33m)\u001b[0m\u001b[1;33m\u001b[0m\u001b[1;33m\u001b[0m\u001b[0m\n",
      "\u001b[1;31mModuleNotFoundError\u001b[0m: No module named 'pyinputplus'"
     ]
    }
   ],
   "source": [
    "import pyinputplus as pyip\n",
    "number = pyip.inputInt(prompt='Enter a number: ', min=0, max=100)\n",
    "print(number)"
   ]
  },
  {
   "cell_type": "code",
   "execution_count": null,
   "id": "c1250f8b",
   "metadata": {},
   "outputs": [],
   "source": []
  }
 ],
 "metadata": {
  "kernelspec": {
   "display_name": "Python 3",
   "language": "python",
   "name": "python3"
  },
  "language_info": {
   "codemirror_mode": {
    "name": "ipython",
    "version": 3
   },
   "file_extension": ".py",
   "mimetype": "text/x-python",
   "name": "python",
   "nbconvert_exporter": "python",
   "pygments_lexer": "ipython3",
   "version": "3.8.8"
  }
 },
 "nbformat": 4,
 "nbformat_minor": 5
}
